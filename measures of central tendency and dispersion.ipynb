{
 "cells": [
  {
   "cell_type": "markdown",
   "id": "ff5795bd",
   "metadata": {},
   "source": [
    "## Question 1 :  Male and Female count"
   ]
  },
  {
   "cell_type": "code",
   "execution_count": 17,
   "id": "3d4c3f7b",
   "metadata": {},
   "outputs": [
    {
     "name": "stdout",
     "output_type": "stream",
     "text": [
      "female    518\n",
      "male      482\n",
      "Name: gender, dtype: int64\n"
     ]
    }
   ],
   "source": [
    "import pandas as pd\n",
    "\n",
    "df = pd.read_csv(r\"C:\\Users\\musta\\Downloads\\StudentsPerformance.csv\")\n",
    "gender_counts = df[\"gender\"].value_counts()\n",
    "print(gender_counts)\n"
   ]
  },
  {
   "cell_type": "markdown",
   "id": "f44fbd55",
   "metadata": {},
   "source": [
    "## Question 2 : Parents Education level"
   ]
  },
  {
   "cell_type": "code",
   "execution_count": 18,
   "id": "ac4fb5d2",
   "metadata": {},
   "outputs": [
    {
     "name": "stdout",
     "output_type": "stream",
     "text": [
      "some college          226\n",
      "associate's degree    222\n",
      "high school           196\n",
      "some high school      179\n",
      "bachelor's degree     118\n",
      "master's degree        59\n",
      "Name: parental level of education, dtype: int64\n"
     ]
    }
   ],
   "source": [
    "parental_counts = df[\"parental level of education\"].value_counts()\n",
    "print(parental_counts)\n"
   ]
  },
  {
   "cell_type": "markdown",
   "id": "02cf576b",
   "metadata": {},
   "source": [
    "## Question 3 : Average for math , reading and writing"
   ]
  },
  {
   "cell_type": "code",
   "execution_count": 19,
   "id": "8cb3caef",
   "metadata": {},
   "outputs": [
    {
     "name": "stdout",
     "output_type": "stream",
     "text": [
      "gender\n",
      "female    63.376448\n",
      "male      68.821577\n",
      "Name: math score, dtype: float64\n",
      "test preparation course\n",
      "completed    69.96648\n",
      "none         63.78972\n",
      "Name: math score, dtype: float64\n"
     ]
    }
   ],
   "source": [
    "gender_math_avg = df.groupby(\"gender\")[\"math score\"].mean()\n",
    "print(gender_math_avg)\n",
    "\n",
    "test_prep_math_avg = df.groupby(\"test preparation course\")[\"math score\"].mean()\n",
    "print(test_prep_math_avg)\n"
   ]
  },
  {
   "cell_type": "code",
   "execution_count": 20,
   "id": "3e0a5bd1",
   "metadata": {},
   "outputs": [
    {
     "name": "stdout",
     "output_type": "stream",
     "text": [
      "gender\n",
      "female    72.590734\n",
      "male      65.545643\n",
      "Name: reading score, dtype: float64\n",
      "test preparation course\n",
      "completed    74.175978\n",
      "none         66.417445\n",
      "Name: reading score, dtype: float64\n"
     ]
    }
   ],
   "source": [
    "gender_read_avg = df.groupby(\"gender\")[\"reading score\"].mean()\n",
    "print(gender_read_avg)\n",
    "\n",
    "test_prep_read_avg = df.groupby(\"test preparation course\")[\"reading score\"].mean()\n",
    "print(test_prep_read_avg)\n"
   ]
  },
  {
   "cell_type": "code",
   "execution_count": 21,
   "id": "8e281f68",
   "metadata": {},
   "outputs": [
    {
     "name": "stdout",
     "output_type": "stream",
     "text": [
      "gender\n",
      "female    72.467181\n",
      "male      63.446058\n",
      "Name: writing score, dtype: float64\n",
      "test preparation course\n",
      "completed    74.684358\n",
      "none         64.457944\n",
      "Name: writing score, dtype: float64\n"
     ]
    }
   ],
   "source": [
    "gender_writing_avg = df.groupby(\"gender\")[\"writing score\"].mean()\n",
    "print(gender_writing_avg)\n",
    "\n",
    "test_prep_write_avg = df.groupby(\"test preparation course\")[\"writing score\"].mean()\n",
    "print(test_prep_write_avg)\n"
   ]
  },
  {
   "cell_type": "markdown",
   "id": "1bec8540",
   "metadata": {},
   "source": [
    "## Question 4 : Scoring variation for math , reading and writing"
   ]
  },
  {
   "cell_type": "code",
   "execution_count": 22,
   "id": "f9b273d1",
   "metadata": {},
   "outputs": [
    {
     "name": "stdout",
     "output_type": "stream",
     "text": [
      "gender\n",
      "female    16.029928\n",
      "male      14.556411\n",
      "Name: math score, dtype: float64\n",
      "test preparation course\n",
      "completed    14.521847\n",
      "none         15.705689\n",
      "Name: math score, dtype: float64\n"
     ]
    }
   ],
   "source": [
    "gender_math_std = df.groupby(\"gender\")[\"math score\"].std()\n",
    "print(gender_math_std)\n",
    "\n",
    "test_prep_math_std = df.groupby(\"test preparation course\")[\"math score\"].std()\n",
    "print(test_prep_math_std)\n"
   ]
  },
  {
   "cell_type": "code",
   "execution_count": 23,
   "id": "4ffa0caa",
   "metadata": {},
   "outputs": [
    {
     "name": "stdout",
     "output_type": "stream",
     "text": [
      "gender\n",
      "female    14.411018\n",
      "male      14.149594\n",
      "Name: reading score, dtype: float64\n",
      "test preparation course\n",
      "completed    13.537572\n",
      "none         14.608896\n",
      "Name: reading score, dtype: float64\n"
     ]
    }
   ],
   "source": [
    "gender_read_std = df.groupby(\"gender\")[\"reading score\"].std()\n",
    "print(gender_read_std)\n",
    "\n",
    "test_prep_read_std = df.groupby(\"test preparation course\")[\"reading score\"].std()\n",
    "print(test_prep_read_std)\n"
   ]
  },
  {
   "cell_type": "code",
   "execution_count": 24,
   "id": "61af5384",
   "metadata": {},
   "outputs": [
    {
     "name": "stdout",
     "output_type": "stream",
     "text": [
      "gender\n",
      "female    14.844842\n",
      "male      14.227225\n",
      "Name: writing score, dtype: float64\n",
      "test preparation course\n",
      "completed    13.236412\n",
      "none         15.041667\n",
      "Name: writing score, dtype: float64\n"
     ]
    }
   ],
   "source": [
    "gender_write_std = df.groupby(\"gender\")[\"writing score\"].std()\n",
    "print(gender_write_std)\n",
    "\n",
    "test_prep_write_std = df.groupby(\"test preparation course\")[\"writing score\"].std()\n",
    "print(test_prep_write_std)\n"
   ]
  },
  {
   "cell_type": "markdown",
   "id": "4718665f",
   "metadata": {},
   "source": [
    "## Question 5 : Top 25%"
   ]
  },
  {
   "cell_type": "code",
   "execution_count": 26,
   "id": "0e62fc45",
   "metadata": {},
   "outputs": [
    {
     "name": "stdout",
     "output_type": "stream",
     "text": [
      "255 students scored in the top 25% for math and received 10 bonus points.\n"
     ]
    },
    {
     "name": "stderr",
     "output_type": "stream",
     "text": [
      "C:\\Users\\musta\\AppData\\Local\\Temp\\ipykernel_11936\\2635548209.py:9: SettingWithCopyWarning: \n",
      "A value is trying to be set on a copy of a slice from a DataFrame.\n",
      "Try using .loc[row_indexer,col_indexer] = value instead\n",
      "\n",
      "See the caveats in the documentation: https://pandas.pydata.org/pandas-docs/stable/user_guide/indexing.html#returning-a-view-versus-a-copy\n",
      "  top_students[\"math score\"] += bonus_points\n"
     ]
    }
   ],
   "source": [
    "math_75th_percentile = df[\"math score\"].quantile(0.75)\n",
    "top_students = df[df[\"math score\"] >= math_75th_percentile]\n",
    "num_top_students = len(top_students)\n",
    "\n",
    "if num_top_students == 0:\n",
    "    print(\"No students scored in the top 25% for math.\")\n",
    "else:\n",
    "    bonus_points = 10\n",
    "    top_students[\"math score\"] += bonus_points\n",
    "    print(f\"{num_top_students} students scored in the top 25% for math and received {bonus_points} bonus points.\")\n"
   ]
  }
 ],
 "metadata": {
  "kernelspec": {
   "display_name": "Python 3 (ipykernel)",
   "language": "python",
   "name": "python3"
  },
  "language_info": {
   "codemirror_mode": {
    "name": "ipython",
    "version": 3
   },
   "file_extension": ".py",
   "mimetype": "text/x-python",
   "name": "python",
   "nbconvert_exporter": "python",
   "pygments_lexer": "ipython3",
   "version": "3.9.13"
  }
 },
 "nbformat": 4,
 "nbformat_minor": 5
}
